{
 "cells": [
  {
   "cell_type": "markdown",
   "id": "6be77349-298f-4f7b-86dd-d6ebdfe1d4ea",
   "metadata": {},
   "source": [
    "Hola **Cristian**!\n",
    "\n",
    "Soy **Patricio Requena** 👋. Es un placer ser el revisor de tu proyecto el día de hoy!\n",
    "\n",
    "Revisaré tu proyecto detenidamente con el objetivo de ayudarte a mejorar y perfeccionar tus habilidades. Durante mi revisión, identificaré áreas donde puedas hacer mejoras en tu código, señalando específicamente qué y cómo podrías ajustar para optimizar el rendimiento y la claridad de tu proyecto. Además, es importante para mí destacar los aspectos que has manejado excepcionalmente bien. Reconocer tus fortalezas te ayudará a entender qué técnicas y métodos están funcionando a tu favor y cómo puedes aplicarlos en futuras tareas. \n",
    "\n",
    "_**Recuerda que al final de este notebook encontrarás un comentario general de mi parte**_, empecemos!\n",
    "\n",
    "Encontrarás mis comentarios dentro de cajas verdes, amarillas o rojas, ⚠️ **por favor, no muevas, modifiques o borres mis comentarios** ⚠️:\n",
    "\n",
    "\n",
    "<div class=\"alert alert-block alert-success\">\n",
    "<b>Comentario del revisor</b> <a class=“tocSkip”></a>\n",
    "Si todo está perfecto.\n",
    "</div>\n",
    "\n",
    "<div class=\"alert alert-block alert-warning\">\n",
    "<b>Comentario del revisor</b> <a class=“tocSkip”></a>\n",
    "Si tu código está bien pero se puede mejorar o hay algún detalle que le hace falta.\n",
    "</div>\n",
    "\n",
    "<div class=\"alert alert-block alert-danger\">\n",
    "<b>Comentario del revisor</b> <a class=“tocSkip”></a>\n",
    "Si de pronto hace falta algo o existe algún problema con tu código o conclusiones.\n",
    "</div>\n",
    "\n",
    "Puedes responderme de esta forma:\n",
    "<div class=\"alert alert-block alert-info\">\n",
    "<b>Respuesta del estudiante</b> <a class=“tocSkip”></a>\n",
    "</div>"
   ]
  },
  {
   "cell_type": "markdown",
   "id": "b481bbf2",
   "metadata": {},
   "source": [
    "# Proyecto Final"
   ]
  },
  {
   "cell_type": "markdown",
   "id": "d329f40f-136d-4b8a-91c7-69331def6bee",
   "metadata": {},
   "source": [
    "Link para la presentación de resultados: https://drive.google.com/file/d/19RXUw0kAdupYHF2sp6BTAssYxBCuR5Fe/view?usp=sharing"
   ]
  },
  {
   "cell_type": "markdown",
   "id": "59426bf5-4050-40e1-adb5-89a759651789",
   "metadata": {},
   "source": [
    "<div class=\"alert alert-block alert-success\">\n",
    "<b>Comentario del revisor (1ra Iteracion)</b> <a class=“tocSkip”></a>\n",
    "\n",
    "Te felicito por la presentación realizada, resume súper bien los hallazgos y los resultados del análisis, buen trabajo!\n",
    "</div>"
   ]
  },
  {
   "cell_type": "code",
   "execution_count": 29,
   "id": "67f155bc",
   "metadata": {},
   "outputs": [],
   "source": [
    "# Cargar Librerías\n",
    "\n",
    "import pandas as pd\n",
    "import seaborn as sns\n",
    "import matplotlib.pyplot as plt\n",
    "import numpy as np\n",
    "from scipy import stats\n",
    "from statsmodels.stats.proportion import proportions_ztest\n",
    "from scipy.stats import spearmanr, pearsonr\n",
    "from scipy.stats import mannwhitneyu"
   ]
  },
  {
   "cell_type": "code",
   "execution_count": 3,
   "id": "55ab858e",
   "metadata": {},
   "outputs": [],
   "source": [
    "#Leer archivos\n",
    "\n",
    "df = pd.read_csv('telecom_dataset_us.csv')\n",
    "clients = pd.read_csv('telecom_clients_us.csv')"
   ]
  },
  {
   "cell_type": "markdown",
   "id": "3701665a",
   "metadata": {},
   "source": [
    "## Análisis Exploratorio"
   ]
  },
  {
   "cell_type": "code",
   "execution_count": 4,
   "id": "0da4e462",
   "metadata": {},
   "outputs": [
    {
     "name": "stdout",
     "output_type": "stream",
     "text": [
      "<class 'pandas.core.frame.DataFrame'>\n",
      "RangeIndex: 53902 entries, 0 to 53901\n",
      "Data columns (total 9 columns):\n",
      " #   Column               Non-Null Count  Dtype  \n",
      "---  ------               --------------  -----  \n",
      " 0   user_id              53902 non-null  int64  \n",
      " 1   date                 53902 non-null  object \n",
      " 2   direction            53902 non-null  object \n",
      " 3   internal             53785 non-null  object \n",
      " 4   operator_id          45730 non-null  float64\n",
      " 5   is_missed_call       53902 non-null  bool   \n",
      " 6   calls_count          53902 non-null  int64  \n",
      " 7   call_duration        53902 non-null  int64  \n",
      " 8   total_call_duration  53902 non-null  int64  \n",
      "dtypes: bool(1), float64(1), int64(4), object(3)\n",
      "memory usage: 3.3+ MB\n"
     ]
    }
   ],
   "source": [
    "df.info()"
   ]
  },
  {
   "cell_type": "code",
   "execution_count": 5,
   "id": "302fb454",
   "metadata": {},
   "outputs": [
    {
     "data": {
      "application/vnd.microsoft.datawrangler.viewer.v0+json": {
       "columns": [
        {
         "name": "index",
         "rawType": "int64",
         "type": "integer"
        },
        {
         "name": "user_id",
         "rawType": "int64",
         "type": "integer"
        },
        {
         "name": "date",
         "rawType": "datetime64[ns]",
         "type": "datetime"
        },
        {
         "name": "direction",
         "rawType": "object",
         "type": "string"
        },
        {
         "name": "internal",
         "rawType": "object",
         "type": "unknown"
        },
        {
         "name": "operator_id",
         "rawType": "float64",
         "type": "float"
        },
        {
         "name": "is_missed_call",
         "rawType": "bool",
         "type": "boolean"
        },
        {
         "name": "calls_count",
         "rawType": "int64",
         "type": "integer"
        },
        {
         "name": "call_duration",
         "rawType": "int64",
         "type": "integer"
        },
        {
         "name": "total_call_duration",
         "rawType": "int64",
         "type": "integer"
        }
       ],
       "conversionMethod": "pd.DataFrame",
       "ref": "67a77387-94d6-4499-8593-a95977aab40f",
       "rows": [
        [
         "0",
         "166377",
         "2019-08-04 03:00:00",
         "in",
         "False",
         null,
         "True",
         "2",
         "0",
         "4"
        ],
        [
         "1",
         "166377",
         "2019-08-05 03:00:00",
         "out",
         "True",
         "880022.0",
         "True",
         "3",
         "0",
         "5"
        ],
        [
         "2",
         "166377",
         "2019-08-05 03:00:00",
         "out",
         "True",
         "880020.0",
         "True",
         "1",
         "0",
         "1"
        ],
        [
         "3",
         "166377",
         "2019-08-05 03:00:00",
         "out",
         "True",
         "880020.0",
         "False",
         "1",
         "10",
         "18"
        ],
        [
         "4",
         "166377",
         "2019-08-05 03:00:00",
         "out",
         "False",
         "880022.0",
         "True",
         "3",
         "0",
         "25"
        ],
        [
         "5",
         "166377",
         "2019-08-05 03:00:00",
         "out",
         "False",
         "880020.0",
         "False",
         "2",
         "3",
         "29"
        ],
        [
         "6",
         "166377",
         "2019-08-05 03:00:00",
         "out",
         "False",
         "880020.0",
         "True",
         "8",
         "0",
         "50"
        ],
        [
         "7",
         "166377",
         "2019-08-05 03:00:00",
         "in",
         "False",
         null,
         "True",
         "6",
         "0",
         "35"
        ],
        [
         "8",
         "166377",
         "2019-08-05 03:00:00",
         "out",
         "False",
         "880020.0",
         "True",
         "8",
         "0",
         "50"
        ],
        [
         "9",
         "166377",
         "2019-08-06 03:00:00",
         "in",
         "False",
         null,
         "True",
         "4",
         "0",
         "62"
        ],
        [
         "10",
         "166377",
         "2019-08-06 03:00:00",
         "out",
         "False",
         "881278.0",
         "True",
         "3",
         "0",
         "29"
        ],
        [
         "11",
         "166377",
         "2019-08-06 03:00:00",
         "out",
         "False",
         "880020.0",
         "True",
         "5",
         "0",
         "70"
        ],
        [
         "12",
         "166377",
         "2019-08-06 03:00:00",
         "out",
         "True",
         "881278.0",
         "True",
         "2",
         "0",
         "5"
        ],
        [
         "13",
         "166377",
         "2019-08-06 03:00:00",
         "out",
         "False",
         "880020.0",
         "False",
         "5",
         "800",
         "819"
        ],
        [
         "14",
         "166377",
         "2019-08-07 03:00:00",
         "out",
         "False",
         "880028.0",
         "True",
         "1",
         "0",
         "15"
        ],
        [
         "15",
         "166377",
         "2019-08-07 03:00:00",
         "out",
         "False",
         "880026.0",
         "False",
         "1",
         "21",
         "28"
        ],
        [
         "16",
         "166377",
         "2019-08-07 03:00:00",
         "out",
         "False",
         "880020.0",
         "False",
         "2",
         "232",
         "240"
        ],
        [
         "17",
         "166377",
         "2019-08-07 03:00:00",
         "in",
         "False",
         null,
         "True",
         "2",
         "0",
         "24"
        ],
        [
         "18",
         "166377",
         "2019-08-07 03:00:00",
         "out",
         "False",
         "880026.0",
         "True",
         "1",
         "0",
         "17"
        ],
        [
         "19",
         "166377",
         "2019-08-08 03:00:00",
         "out",
         "False",
         "880022.0",
         "False",
         "2",
         "558",
         "568"
        ],
        [
         "20",
         "166377",
         "2019-08-08 03:00:00",
         "out",
         "False",
         "880022.0",
         "True",
         "4",
         "0",
         "28"
        ],
        [
         "21",
         "166377",
         "2019-08-09 03:00:00",
         "out",
         "False",
         "880028.0",
         "False",
         "17",
         "1603",
         "1725"
        ],
        [
         "22",
         "166377",
         "2019-08-09 03:00:00",
         "out",
         "False",
         "880028.0",
         "True",
         "2",
         "0",
         "2"
        ],
        [
         "23",
         "166377",
         "2019-08-09 03:00:00",
         "out",
         "False",
         "880022.0",
         "True",
         "2",
         "0",
         "10"
        ],
        [
         "24",
         "166377",
         "2019-08-12 03:00:00",
         "out",
         "False",
         "880028.0",
         "False",
         "20",
         "2074",
         "2191"
        ],
        [
         "25",
         "166377",
         "2019-08-12 03:00:00",
         "out",
         "True",
         "880028.0",
         "True",
         "1",
         "0",
         "26"
        ],
        [
         "26",
         "166377",
         "2019-08-12 03:00:00",
         "in",
         "False",
         "880028.0",
         "False",
         "1",
         "407",
         "411"
        ],
        [
         "27",
         "166377",
         "2019-08-12 03:00:00",
         "in",
         "False",
         null,
         "True",
         "2",
         "0",
         "34"
        ],
        [
         "28",
         "166377",
         "2019-08-12 03:00:00",
         "in",
         "False",
         null,
         "True",
         "2",
         "0",
         "34"
        ],
        [
         "29",
         "166377",
         "2019-08-13 03:00:00",
         "out",
         "True",
         "880026.0",
         "True",
         "2",
         "0",
         "23"
        ],
        [
         "30",
         "166377",
         "2019-08-13 03:00:00",
         "in",
         "False",
         null,
         "True",
         "7",
         "0",
         "128"
        ],
        [
         "31",
         "166377",
         "2019-08-13 03:00:00",
         "out",
         "False",
         "880026.0",
         "False",
         "4",
         "258",
         "287"
        ],
        [
         "32",
         "166377",
         "2019-08-13 03:00:00",
         "out",
         "True",
         "880028.0",
         "True",
         "1",
         "0",
         "16"
        ],
        [
         "33",
         "166377",
         "2019-08-13 03:00:00",
         "out",
         "False",
         "880028.0",
         "False",
         "10",
         "647",
         "788"
        ],
        [
         "34",
         "166377",
         "2019-08-13 03:00:00",
         "in",
         "False",
         "880028.0",
         "False",
         "1",
         "88",
         "102"
        ],
        [
         "35",
         "166377",
         "2019-08-13 03:00:00",
         "out",
         "False",
         "880028.0",
         "True",
         "1",
         "0",
         "60"
        ],
        [
         "36",
         "166377",
         "2019-08-14 03:00:00",
         "out",
         "False",
         "880028.0",
         "True",
         "7",
         "0",
         "105"
        ],
        [
         "37",
         "166377",
         "2019-08-14 03:00:00",
         "in",
         "False",
         "880026.0",
         "False",
         "2",
         "197",
         "218"
        ],
        [
         "38",
         "166377",
         "2019-08-14 03:00:00",
         "in",
         "False",
         null,
         "True",
         "1",
         "0",
         "3"
        ],
        [
         "39",
         "166377",
         "2019-08-14 03:00:00",
         "in",
         "False",
         "880028.0",
         "False",
         "1",
         "33",
         "37"
        ],
        [
         "40",
         "166377",
         "2019-08-14 03:00:00",
         "out",
         "True",
         "880026.0",
         "True",
         "2",
         "0",
         "0"
        ],
        [
         "41",
         "166377",
         "2019-08-14 03:00:00",
         "out",
         "False",
         "880028.0",
         "False",
         "18",
         "2686",
         "2782"
        ],
        [
         "42",
         "166377",
         "2019-08-14 03:00:00",
         "out",
         "False",
         "880026.0",
         "True",
         "7",
         "0",
         "38"
        ],
        [
         "43",
         "166377",
         "2019-08-14 03:00:00",
         "out",
         "False",
         "880026.0",
         "False",
         "10",
         "1567",
         "1654"
        ],
        [
         "44",
         "166377",
         "2019-08-14 03:00:00",
         "out",
         "False",
         "880026.0",
         "False",
         "10",
         "1567",
         "1654"
        ],
        [
         "45",
         "166377",
         "2019-08-14 03:00:00",
         "in",
         "False",
         null,
         "True",
         "1",
         "0",
         "3"
        ],
        [
         "46",
         "166377",
         "2019-08-15 03:00:00",
         "out",
         "False",
         "880026.0",
         "False",
         "11",
         "1413",
         "1473"
        ],
        [
         "47",
         "166377",
         "2019-08-15 03:00:00",
         "out",
         "False",
         "880028.0",
         "True",
         "8",
         "0",
         "458"
        ],
        [
         "48",
         "166377",
         "2019-08-15 03:00:00",
         "out",
         "False",
         "880028.0",
         "False",
         "19",
         "2653",
         "2779"
        ],
        [
         "49",
         "166377",
         "2019-08-15 03:00:00",
         "in",
         "False",
         "880028.0",
         "False",
         "1",
         "23",
         "27"
        ]
       ],
       "shape": {
        "columns": 9,
        "rows": 53902
       }
      },
      "text/html": [
       "<div>\n",
       "<style scoped>\n",
       "    .dataframe tbody tr th:only-of-type {\n",
       "        vertical-align: middle;\n",
       "    }\n",
       "\n",
       "    .dataframe tbody tr th {\n",
       "        vertical-align: top;\n",
       "    }\n",
       "\n",
       "    .dataframe thead th {\n",
       "        text-align: right;\n",
       "    }\n",
       "</style>\n",
       "<table border=\"1\" class=\"dataframe\">\n",
       "  <thead>\n",
       "    <tr style=\"text-align: right;\">\n",
       "      <th></th>\n",
       "      <th>user_id</th>\n",
       "      <th>date</th>\n",
       "      <th>direction</th>\n",
       "      <th>internal</th>\n",
       "      <th>operator_id</th>\n",
       "      <th>is_missed_call</th>\n",
       "      <th>calls_count</th>\n",
       "      <th>call_duration</th>\n",
       "      <th>total_call_duration</th>\n",
       "    </tr>\n",
       "  </thead>\n",
       "  <tbody>\n",
       "    <tr>\n",
       "      <th>0</th>\n",
       "      <td>166377</td>\n",
       "      <td>2019-08-04 03:00:00</td>\n",
       "      <td>in</td>\n",
       "      <td>False</td>\n",
       "      <td>NaN</td>\n",
       "      <td>True</td>\n",
       "      <td>2</td>\n",
       "      <td>0</td>\n",
       "      <td>4</td>\n",
       "    </tr>\n",
       "    <tr>\n",
       "      <th>1</th>\n",
       "      <td>166377</td>\n",
       "      <td>2019-08-05 03:00:00</td>\n",
       "      <td>out</td>\n",
       "      <td>True</td>\n",
       "      <td>880022.0</td>\n",
       "      <td>True</td>\n",
       "      <td>3</td>\n",
       "      <td>0</td>\n",
       "      <td>5</td>\n",
       "    </tr>\n",
       "    <tr>\n",
       "      <th>2</th>\n",
       "      <td>166377</td>\n",
       "      <td>2019-08-05 03:00:00</td>\n",
       "      <td>out</td>\n",
       "      <td>True</td>\n",
       "      <td>880020.0</td>\n",
       "      <td>True</td>\n",
       "      <td>1</td>\n",
       "      <td>0</td>\n",
       "      <td>1</td>\n",
       "    </tr>\n",
       "    <tr>\n",
       "      <th>3</th>\n",
       "      <td>166377</td>\n",
       "      <td>2019-08-05 03:00:00</td>\n",
       "      <td>out</td>\n",
       "      <td>True</td>\n",
       "      <td>880020.0</td>\n",
       "      <td>False</td>\n",
       "      <td>1</td>\n",
       "      <td>10</td>\n",
       "      <td>18</td>\n",
       "    </tr>\n",
       "    <tr>\n",
       "      <th>4</th>\n",
       "      <td>166377</td>\n",
       "      <td>2019-08-05 03:00:00</td>\n",
       "      <td>out</td>\n",
       "      <td>False</td>\n",
       "      <td>880022.0</td>\n",
       "      <td>True</td>\n",
       "      <td>3</td>\n",
       "      <td>0</td>\n",
       "      <td>25</td>\n",
       "    </tr>\n",
       "    <tr>\n",
       "      <th>...</th>\n",
       "      <td>...</td>\n",
       "      <td>...</td>\n",
       "      <td>...</td>\n",
       "      <td>...</td>\n",
       "      <td>...</td>\n",
       "      <td>...</td>\n",
       "      <td>...</td>\n",
       "      <td>...</td>\n",
       "      <td>...</td>\n",
       "    </tr>\n",
       "    <tr>\n",
       "      <th>53897</th>\n",
       "      <td>168606</td>\n",
       "      <td>2019-11-10 03:00:00</td>\n",
       "      <td>out</td>\n",
       "      <td>True</td>\n",
       "      <td>957922.0</td>\n",
       "      <td>True</td>\n",
       "      <td>1</td>\n",
       "      <td>0</td>\n",
       "      <td>38</td>\n",
       "    </tr>\n",
       "    <tr>\n",
       "      <th>53898</th>\n",
       "      <td>168606</td>\n",
       "      <td>2019-11-11 03:00:00</td>\n",
       "      <td>out</td>\n",
       "      <td>True</td>\n",
       "      <td>957922.0</td>\n",
       "      <td>False</td>\n",
       "      <td>2</td>\n",
       "      <td>479</td>\n",
       "      <td>501</td>\n",
       "    </tr>\n",
       "    <tr>\n",
       "      <th>53899</th>\n",
       "      <td>168606</td>\n",
       "      <td>2019-11-15 03:00:00</td>\n",
       "      <td>out</td>\n",
       "      <td>True</td>\n",
       "      <td>957922.0</td>\n",
       "      <td>False</td>\n",
       "      <td>4</td>\n",
       "      <td>3130</td>\n",
       "      <td>3190</td>\n",
       "    </tr>\n",
       "    <tr>\n",
       "      <th>53900</th>\n",
       "      <td>168606</td>\n",
       "      <td>2019-11-15 03:00:00</td>\n",
       "      <td>out</td>\n",
       "      <td>True</td>\n",
       "      <td>957922.0</td>\n",
       "      <td>False</td>\n",
       "      <td>4</td>\n",
       "      <td>3130</td>\n",
       "      <td>3190</td>\n",
       "    </tr>\n",
       "    <tr>\n",
       "      <th>53901</th>\n",
       "      <td>168606</td>\n",
       "      <td>2019-11-19 03:00:00</td>\n",
       "      <td>in</td>\n",
       "      <td>False</td>\n",
       "      <td>NaN</td>\n",
       "      <td>True</td>\n",
       "      <td>2</td>\n",
       "      <td>0</td>\n",
       "      <td>64</td>\n",
       "    </tr>\n",
       "  </tbody>\n",
       "</table>\n",
       "<p>53902 rows × 9 columns</p>\n",
       "</div>"
      ],
      "text/plain": [
       "       user_id                date direction internal  operator_id  \\\n",
       "0       166377 2019-08-04 03:00:00        in    False          NaN   \n",
       "1       166377 2019-08-05 03:00:00       out     True     880022.0   \n",
       "2       166377 2019-08-05 03:00:00       out     True     880020.0   \n",
       "3       166377 2019-08-05 03:00:00       out     True     880020.0   \n",
       "4       166377 2019-08-05 03:00:00       out    False     880022.0   \n",
       "...        ...                 ...       ...      ...          ...   \n",
       "53897   168606 2019-11-10 03:00:00       out     True     957922.0   \n",
       "53898   168606 2019-11-11 03:00:00       out     True     957922.0   \n",
       "53899   168606 2019-11-15 03:00:00       out     True     957922.0   \n",
       "53900   168606 2019-11-15 03:00:00       out     True     957922.0   \n",
       "53901   168606 2019-11-19 03:00:00        in    False          NaN   \n",
       "\n",
       "       is_missed_call  calls_count  call_duration  total_call_duration  \n",
       "0                True            2              0                    4  \n",
       "1                True            3              0                    5  \n",
       "2                True            1              0                    1  \n",
       "3               False            1             10                   18  \n",
       "4                True            3              0                   25  \n",
       "...               ...          ...            ...                  ...  \n",
       "53897            True            1              0                   38  \n",
       "53898           False            2            479                  501  \n",
       "53899           False            4           3130                 3190  \n",
       "53900           False            4           3130                 3190  \n",
       "53901            True            2              0                   64  \n",
       "\n",
       "[53902 rows x 9 columns]"
      ]
     },
     "execution_count": 5,
     "metadata": {},
     "output_type": "execute_result"
    }
   ],
   "source": [
    "# Cambiar tipo de dato\n",
    "df['date'] = pd.to_datetime(df['date'])\n",
    "\n",
    "# Sumar 3 horas y quitar la zona horaria\n",
    "df['date'] = (df['date'] + pd.Timedelta(hours=3)).dt.tz_localize(None)\n",
    "\n",
    "df"
   ]
  },
  {
   "cell_type": "code",
   "execution_count": 6,
   "id": "11edacce",
   "metadata": {},
   "outputs": [
    {
     "data": {
      "text/plain": [
       "np.int64(0)"
      ]
     },
     "execution_count": 6,
     "metadata": {},
     "output_type": "execute_result"
    }
   ],
   "source": [
    "#Eliminar valores ausentes de 'internal'\n",
    "df = df.dropna(subset=['internal'])\n",
    "df['internal'].isna().sum()"
   ]
  },
  {
   "cell_type": "code",
   "execution_count": 7,
   "id": "d2ea66a5",
   "metadata": {},
   "outputs": [
    {
     "data": {
      "text/plain": [
       "np.int64(0)"
      ]
     },
     "execution_count": 7,
     "metadata": {},
     "output_type": "execute_result"
    }
   ],
   "source": [
    "#Eliminar valores ausentes de 'operator_id'\n",
    "df = df.dropna(subset=['operator_id'])\n",
    "df['operator_id'].isna().sum()"
   ]
  },
  {
   "cell_type": "code",
   "execution_count": 8,
   "id": "7150ed27",
   "metadata": {},
   "outputs": [],
   "source": [
    "df['operator_id'] = df['operator_id'].astype(int)"
   ]
  },
  {
   "cell_type": "code",
   "execution_count": 9,
   "id": "5bc8b805",
   "metadata": {},
   "outputs": [
    {
     "name": "stdout",
     "output_type": "stream",
     "text": [
      "<class 'pandas.core.frame.DataFrame'>\n",
      "Index: 45670 entries, 1 to 53900\n",
      "Data columns (total 9 columns):\n",
      " #   Column               Non-Null Count  Dtype         \n",
      "---  ------               --------------  -----         \n",
      " 0   user_id              45670 non-null  int64         \n",
      " 1   date                 45670 non-null  datetime64[ns]\n",
      " 2   direction            45670 non-null  object        \n",
      " 3   internal             45670 non-null  object        \n",
      " 4   operator_id          45670 non-null  int64         \n",
      " 5   is_missed_call       45670 non-null  bool          \n",
      " 6   calls_count          45670 non-null  int64         \n",
      " 7   call_duration        45670 non-null  int64         \n",
      " 8   total_call_duration  45670 non-null  int64         \n",
      "dtypes: bool(1), datetime64[ns](1), int64(5), object(2)\n",
      "memory usage: 3.2+ MB\n"
     ]
    }
   ],
   "source": [
    "df.info()"
   ]
  },
  {
   "cell_type": "code",
   "execution_count": 10,
   "id": "4cb77152",
   "metadata": {},
   "outputs": [
    {
     "name": "stdout",
     "output_type": "stream",
     "text": [
      "<class 'pandas.core.frame.DataFrame'>\n",
      "RangeIndex: 732 entries, 0 to 731\n",
      "Data columns (total 3 columns):\n",
      " #   Column       Non-Null Count  Dtype \n",
      "---  ------       --------------  ----- \n",
      " 0   user_id      732 non-null    int64 \n",
      " 1   tariff_plan  732 non-null    object\n",
      " 2   date_start   732 non-null    object\n",
      "dtypes: int64(1), object(2)\n",
      "memory usage: 17.3+ KB\n"
     ]
    }
   ],
   "source": [
    "clients.info()"
   ]
  },
  {
   "cell_type": "code",
   "execution_count": 11,
   "id": "17b8dac1",
   "metadata": {},
   "outputs": [
    {
     "data": {
      "application/vnd.microsoft.datawrangler.viewer.v0+json": {
       "columns": [
        {
         "name": "index",
         "rawType": "int64",
         "type": "integer"
        },
        {
         "name": "user_id",
         "rawType": "int64",
         "type": "integer"
        },
        {
         "name": "tariff_plan",
         "rawType": "object",
         "type": "string"
        },
        {
         "name": "date_start",
         "rawType": "datetime64[ns]",
         "type": "datetime"
        }
       ],
       "conversionMethod": "pd.DataFrame",
       "ref": "130e87b0-fa46-45bd-8fa7-a2e4d22edece",
       "rows": [
        [
         "0",
         "166713",
         "A",
         "2019-08-15 00:00:00"
        ],
        [
         "1",
         "166901",
         "A",
         "2019-08-23 00:00:00"
        ],
        [
         "2",
         "168527",
         "A",
         "2019-10-29 00:00:00"
        ],
        [
         "3",
         "167097",
         "A",
         "2019-09-01 00:00:00"
        ],
        [
         "4",
         "168193",
         "A",
         "2019-10-16 00:00:00"
        ],
        [
         "5",
         "167764",
         "A",
         "2019-09-30 00:00:00"
        ],
        [
         "6",
         "167050",
         "A",
         "2019-08-29 00:00:00"
        ],
        [
         "7",
         "168252",
         "A",
         "2019-10-17 00:00:00"
        ],
        [
         "8",
         "168495",
         "A",
         "2019-10-28 00:00:00"
        ],
        [
         "9",
         "167879",
         "A",
         "2019-10-03 00:00:00"
        ],
        [
         "10",
         "168573",
         "A",
         "2019-10-31 00:00:00"
        ],
        [
         "11",
         "166610",
         "A",
         "2019-08-12 00:00:00"
        ],
        [
         "12",
         "167536",
         "A",
         "2019-09-19 00:00:00"
        ],
        [
         "13",
         "168354",
         "A",
         "2019-10-23 00:00:00"
        ],
        [
         "14",
         "168284",
         "A",
         "2019-10-20 00:00:00"
        ],
        [
         "15",
         "168422",
         "A",
         "2019-10-24 00:00:00"
        ],
        [
         "16",
         "168253",
         "A",
         "2019-10-18 00:00:00"
        ],
        [
         "17",
         "168062",
         "A",
         "2019-10-11 00:00:00"
        ],
        [
         "18",
         "168048",
         "A",
         "2019-10-10 00:00:00"
        ],
        [
         "19",
         "168205",
         "A",
         "2019-10-16 00:00:00"
        ],
        [
         "20",
         "167838",
         "A",
         "2019-10-02 00:00:00"
        ],
        [
         "21",
         "168361",
         "A",
         "2019-10-23 00:00:00"
        ],
        [
         "22",
         "168295",
         "A",
         "2019-10-21 00:00:00"
        ],
        [
         "23",
         "167881",
         "A",
         "2019-10-03 00:00:00"
        ],
        [
         "24",
         "168121",
         "A",
         "2019-10-14 00:00:00"
        ],
        [
         "25",
         "168049",
         "A",
         "2019-10-10 00:00:00"
        ],
        [
         "26",
         "167949",
         "A",
         "2019-10-07 00:00:00"
        ],
        [
         "27",
         "168187",
         "A",
         "2019-10-16 00:00:00"
        ],
        [
         "28",
         "167828",
         "A",
         "2019-10-02 00:00:00"
        ],
        [
         "29",
         "167810",
         "A",
         "2019-10-01 00:00:00"
        ],
        [
         "30",
         "168112",
         "A",
         "2019-10-14 00:00:00"
        ],
        [
         "31",
         "167953",
         "A",
         "2019-10-07 00:00:00"
        ],
        [
         "32",
         "167799",
         "A",
         "2019-10-01 00:00:00"
        ],
        [
         "33",
         "166897",
         "A",
         "2019-08-23 00:00:00"
        ],
        [
         "34",
         "167628",
         "A",
         "2019-09-24 00:00:00"
        ],
        [
         "35",
         "166916",
         "A",
         "2019-08-23 00:00:00"
        ],
        [
         "36",
         "167497",
         "A",
         "2019-09-18 00:00:00"
        ],
        [
         "37",
         "167634",
         "A",
         "2019-09-24 00:00:00"
        ],
        [
         "38",
         "166879",
         "A",
         "2019-08-22 00:00:00"
        ],
        [
         "39",
         "166465",
         "A",
         "2019-08-05 00:00:00"
        ],
        [
         "40",
         "166523",
         "A",
         "2019-08-07 00:00:00"
        ],
        [
         "41",
         "166806",
         "A",
         "2019-08-20 00:00:00"
        ],
        [
         "42",
         "167185",
         "A",
         "2019-09-05 00:00:00"
        ],
        [
         "43",
         "168459",
         "A",
         "2019-10-26 00:00:00"
        ],
        [
         "44",
         "167267",
         "A",
         "2019-09-10 00:00:00"
        ],
        [
         "45",
         "166541",
         "A",
         "2019-08-07 00:00:00"
        ],
        [
         "46",
         "167090",
         "A",
         "2019-08-30 00:00:00"
        ],
        [
         "47",
         "166934",
         "A",
         "2019-08-26 00:00:00"
        ],
        [
         "48",
         "166896",
         "A",
         "2019-08-23 00:00:00"
        ],
        [
         "49",
         "166725",
         "A",
         "2019-08-16 00:00:00"
        ]
       ],
       "shape": {
        "columns": 3,
        "rows": 732
       }
      },
      "text/html": [
       "<div>\n",
       "<style scoped>\n",
       "    .dataframe tbody tr th:only-of-type {\n",
       "        vertical-align: middle;\n",
       "    }\n",
       "\n",
       "    .dataframe tbody tr th {\n",
       "        vertical-align: top;\n",
       "    }\n",
       "\n",
       "    .dataframe thead th {\n",
       "        text-align: right;\n",
       "    }\n",
       "</style>\n",
       "<table border=\"1\" class=\"dataframe\">\n",
       "  <thead>\n",
       "    <tr style=\"text-align: right;\">\n",
       "      <th></th>\n",
       "      <th>user_id</th>\n",
       "      <th>tariff_plan</th>\n",
       "      <th>date_start</th>\n",
       "    </tr>\n",
       "  </thead>\n",
       "  <tbody>\n",
       "    <tr>\n",
       "      <th>0</th>\n",
       "      <td>166713</td>\n",
       "      <td>A</td>\n",
       "      <td>2019-08-15</td>\n",
       "    </tr>\n",
       "    <tr>\n",
       "      <th>1</th>\n",
       "      <td>166901</td>\n",
       "      <td>A</td>\n",
       "      <td>2019-08-23</td>\n",
       "    </tr>\n",
       "    <tr>\n",
       "      <th>2</th>\n",
       "      <td>168527</td>\n",
       "      <td>A</td>\n",
       "      <td>2019-10-29</td>\n",
       "    </tr>\n",
       "    <tr>\n",
       "      <th>3</th>\n",
       "      <td>167097</td>\n",
       "      <td>A</td>\n",
       "      <td>2019-09-01</td>\n",
       "    </tr>\n",
       "    <tr>\n",
       "      <th>4</th>\n",
       "      <td>168193</td>\n",
       "      <td>A</td>\n",
       "      <td>2019-10-16</td>\n",
       "    </tr>\n",
       "    <tr>\n",
       "      <th>...</th>\n",
       "      <td>...</td>\n",
       "      <td>...</td>\n",
       "      <td>...</td>\n",
       "    </tr>\n",
       "    <tr>\n",
       "      <th>727</th>\n",
       "      <td>166554</td>\n",
       "      <td>B</td>\n",
       "      <td>2019-08-08</td>\n",
       "    </tr>\n",
       "    <tr>\n",
       "      <th>728</th>\n",
       "      <td>166911</td>\n",
       "      <td>B</td>\n",
       "      <td>2019-08-23</td>\n",
       "    </tr>\n",
       "    <tr>\n",
       "      <th>729</th>\n",
       "      <td>167012</td>\n",
       "      <td>B</td>\n",
       "      <td>2019-08-28</td>\n",
       "    </tr>\n",
       "    <tr>\n",
       "      <th>730</th>\n",
       "      <td>166867</td>\n",
       "      <td>B</td>\n",
       "      <td>2019-08-22</td>\n",
       "    </tr>\n",
       "    <tr>\n",
       "      <th>731</th>\n",
       "      <td>166565</td>\n",
       "      <td>B</td>\n",
       "      <td>2019-08-08</td>\n",
       "    </tr>\n",
       "  </tbody>\n",
       "</table>\n",
       "<p>732 rows × 3 columns</p>\n",
       "</div>"
      ],
      "text/plain": [
       "     user_id tariff_plan date_start\n",
       "0     166713           A 2019-08-15\n",
       "1     166901           A 2019-08-23\n",
       "2     168527           A 2019-10-29\n",
       "3     167097           A 2019-09-01\n",
       "4     168193           A 2019-10-16\n",
       "..       ...         ...        ...\n",
       "727   166554           B 2019-08-08\n",
       "728   166911           B 2019-08-23\n",
       "729   167012           B 2019-08-28\n",
       "730   166867           B 2019-08-22\n",
       "731   166565           B 2019-08-08\n",
       "\n",
       "[732 rows x 3 columns]"
      ]
     },
     "execution_count": 11,
     "metadata": {},
     "output_type": "execute_result"
    }
   ],
   "source": [
    "clients['date_start'] = pd.to_datetime(clients['date_start'])\n",
    "clients"
   ]
  },
  {
   "cell_type": "markdown",
   "id": "a7f890d9",
   "metadata": {},
   "source": [
    "## Análisis Exploratorio"
   ]
  },
  {
   "cell_type": "code",
   "execution_count": 12,
   "id": "38e1e470",
   "metadata": {},
   "outputs": [
    {
     "data": {
      "text/plain": [
       "np.int64(144395)"
      ]
     },
     "execution_count": 12,
     "metadata": {},
     "output_type": "execute_result"
    }
   ],
   "source": [
    "df['call_duration'].max()"
   ]
  },
  {
   "cell_type": "code",
   "execution_count": 36,
   "id": "e91148fe",
   "metadata": {},
   "outputs": [
    {
     "data": {
      "image/png": "[encoded data removed]",
      "text/plain": [
       "<Figure size 640x480 with 1 Axes>"
      ]
     },
     "metadata": {},
     "output_type": "display_data"
    }
   ],
   "source": [
    "sns.histplot(data=df, x='call_duration',  element='step', )\n",
    "plt.ylim(0, 15300)\n",
    "plt.xlim(0, 1000)\n",
    "plt.title(f'Distribución de call_duration')\n",
    "plt.xlabel('Call Duration (s)')\n",
    "plt.ylabel('Densidad')\n",
    "plt.tight_layout()\n",
    "plt.show()"
   ]
  },
  {
   "cell_type": "code",
   "execution_count": 32,
   "id": "abb7beaa",
   "metadata": {},
   "outputs": [
    {
     "data": {
      "image/png": "[encoded data removed]",
      "text/plain": [
       "<Figure size 640x480 with 1 Axes>"
      ]
     },
     "metadata": {},
     "output_type": "display_data"
    }
   ],
   "source": [
    "sns.histplot(\n",
    "    data=df,\n",
    "    x='call_duration',\n",
    "    hue='direction',\n",
    "    element='step',        # líneas para evitar solapamiento\n",
    "    stat='density',        # para comparar formas de distribución\n",
    "    common_norm=False      # normaliza por grupo\n",
    ")\n",
    "plt.xlim(0, 1000)\n",
    "plt.title('Duración de llamadas por dirección')\n",
    "plt.xlabel('Duración de llamada (segundos)')\n",
    "plt.ylabel('Densidad')\n",
    "plt.show()"
   ]
  },
  {
   "cell_type": "code",
   "execution_count": 37,
   "id": "80c5f627",
   "metadata": {},
   "outputs": [
    {
     "data": {
      "image/png": "[encoded data removed]",
      "text/plain": [
       "<Figure size 640x480 with 1 Axes>"
      ]
     },
     "metadata": {},
     "output_type": "display_data"
    }
   ],
   "source": [
    "sns.histplot(\n",
    "    data=df[~df['is_missed_call']],  # Solo llamadas efectivas\n",
    "    x='call_duration',\n",
    "    hue='internal',          # Comparar internas vs externas\n",
    "    element='bars',\n",
    "    stat='count'\n",
    ")\n",
    "plt.title('Duración de llamadas internas vs externas (solo llamadas efectivas)')\n",
    "plt.xlim(0, 5000)\n",
    "plt.xlabel('Duración de llamada (segundos)')\n",
    "plt.show()"
   ]
  },
  {
   "cell_type": "code",
   "execution_count": 16,
   "id": "4827caab",
   "metadata": {},
   "outputs": [
    {
     "data": {
      "image/png": "[encoded data removed]",
      "text/plain": [
       "<Figure size 640x480 with 1 Axes>"
      ]
     },
     "metadata": {},
     "output_type": "display_data"
    }
   ],
   "source": [
    "# Contar cuántas llamadas son internas (True) vs externas (False)\n",
    "counts = df['internal'].value_counts()\n",
    "\n",
    "# Etiquetas para el gráfico\n",
    "labels = ['Externa', 'Interna'] if counts.index[0] == False else ['Interna', 'Externa']\n",
    "\n",
    "plt.pie(counts, labels=labels, autopct='%1.1f%%', startangle=140)\n",
    "plt.title('Participación de llamadas internas vs externas')\n",
    "plt.axis('equal')  # Para que el círculo no se deforme\n",
    "plt.show()"
   ]
  },
  {
   "cell_type": "code",
   "execution_count": 17,
   "id": "94c07ccc",
   "metadata": {},
   "outputs": [
    {
     "data": {
      "image/png": "[encoded data removed]",
      "text/plain": [
       "<Figure size 640x480 with 1 Axes>"
      ]
     },
     "metadata": {},
     "output_type": "display_data"
    }
   ],
   "source": [
    "# Agrupar y sumar las llamadas por día\n",
    "llamadas_por_dia = df.groupby('date')['calls_count'].sum().reset_index()\n",
    "\n",
    "# Graficar el histograma\n",
    "sns.histplot(data=llamadas_por_dia, x='date', weights='calls_count', bins=30)\n",
    "plt.title('Número de llamadas por día')\n",
    "plt.xlabel('Fecha')\n",
    "plt.ylabel('Número de llamadas')\n",
    "plt.xticks(rotation=45)\n",
    "plt.tight_layout()\n",
    "plt.show()"
   ]
  },
  {
   "cell_type": "code",
   "execution_count": 18,
   "id": "66fafe2f",
   "metadata": {},
   "outputs": [
    {
     "name": "stderr",
     "output_type": "stream",
     "text": [
      "C:\\Users\\crisd\\AppData\\Local\\Temp\\ipykernel_8736\\448970279.py:4: SettingWithCopyWarning: \n",
      "A value is trying to be set on a copy of a slice from a DataFrame.\n",
      "Try using .loc[row_indexer,col_indexer] = value instead\n",
      "\n",
      "See the caveats in the documentation: https://pandas.pydata.org/pandas-docs/stable/user_guide/indexing.html#returning-a-view-versus-a-copy\n",
      "  entrantes['tiempo_espera'] = entrantes['total_call_duration'] - entrantes['call_duration']\n"
     ]
    }
   ],
   "source": [
    "# Filtrar solo llamadas entrantes\n",
    "entrantes = df[df['direction'] == 'in']\n",
    "\n",
    "entrantes['tiempo_espera'] = entrantes['total_call_duration'] - entrantes['call_duration']\n",
    "\n",
    "# Calcular estadísticas por operador\n",
    "resumen = entrantes.groupby('operator_id').agg(\n",
    "    total_entrantes=('calls_count', 'sum'),\n",
    "    llamadas_perdidas=('is_missed_call', lambda x: (x == True).sum()),\n",
    "    llamadas_recibidas=('is_missed_call', lambda x: (x == False).sum()),\n",
    "    duracion_promedio_respuestas=('call_duration', lambda x: x[entrantes['is_missed_call'] == False].mean())\n",
    ").reset_index()\n",
    "\n",
    "# Calcular tasa de llamadas perdidas\n",
    "resumen['tasa_perdidas'] = resumen['llamadas_perdidas'] / resumen['total_entrantes']"
   ]
  },
  {
   "cell_type": "code",
   "execution_count": 19,
   "id": "2edbded5",
   "metadata": {},
   "outputs": [
    {
     "data": {
      "image/png": "[encoded data removed]",
      "text/plain": [
       "<Figure size 640x480 with 1 Axes>"
      ]
     },
     "metadata": {},
     "output_type": "display_data"
    }
   ],
   "source": [
    "sns.scatterplot(data=resumen, x='tasa_perdidas', y='duracion_promedio_respuestas')\n",
    "plt.title('Relación entre llamadas perdidas y eficacia de operadores')\n",
    "plt.xlabel('Tasa de llamadas perdidas (entrantes)')\n",
    "plt.ylabel('Duración promedio de llamadas respondidas (segundos)')\n",
    "plt.show()"
   ]
  },
  {
   "cell_type": "markdown",
   "id": "58c71f41",
   "metadata": {},
   "source": [
    "El gráfico permite mostrar la baja eficacia del equipo, dado que los operadores con mas llamadas perdidas tienden a tener duraciones promedio mas bájas o nulas."
   ]
  },
  {
   "cell_type": "code",
   "execution_count": 20,
   "id": "51339da5",
   "metadata": {},
   "outputs": [],
   "source": [
    "resumen1 = entrantes.groupby('operator_id').agg(\n",
    "    espera_promedio=('tiempo_espera', 'mean'),\n",
    "    tasa_perdidas=('is_missed_call', lambda x: x.sum() / x.count()),\n",
    "    duracion_atendidas=('call_duration', lambda x: x[entrantes.loc[x.index, 'is_missed_call'] == False].mean())\n",
    ").reset_index()"
   ]
  },
  {
   "cell_type": "code",
   "execution_count": 21,
   "id": "b1246d42",
   "metadata": {},
   "outputs": [
    {
     "data": {
      "application/vnd.microsoft.datawrangler.viewer.v0+json": {
       "columns": [
        {
         "name": "index",
         "rawType": "object",
         "type": "string"
        },
        {
         "name": "operator_id",
         "rawType": "float64",
         "type": "float"
        },
        {
         "name": "espera_promedio",
         "rawType": "float64",
         "type": "float"
        },
        {
         "name": "tasa_perdidas",
         "rawType": "float64",
         "type": "float"
        },
        {
         "name": "duracion_atendidas",
         "rawType": "float64",
         "type": "float"
        }
       ],
       "conversionMethod": "pd.DataFrame",
       "ref": "365f1cfe-4a62-439c-84a5-bf64149b896f",
       "rows": [
        [
         "operator_id",
         "1.0",
         "-0.022100945386552353",
         "0.028460834723728623",
         "0.03562929829156327"
        ],
        [
         "espera_promedio",
         "-0.022100945386552353",
         "1.0",
         "0.23812325271599588",
         "0.5829380080770435"
        ],
        [
         "tasa_perdidas",
         "0.028460834723728623",
         "0.23812325271599588",
         "1.0",
         "0.3570770585581522"
        ],
        [
         "duracion_atendidas",
         "0.03562929829156327",
         "0.5829380080770435",
         "0.3570770585581522",
         "1.0"
        ]
       ],
       "shape": {
        "columns": 4,
        "rows": 4
       }
      },
      "text/html": [
       "<div>\n",
       "<style scoped>\n",
       "    .dataframe tbody tr th:only-of-type {\n",
       "        vertical-align: middle;\n",
       "    }\n",
       "\n",
       "    .dataframe tbody tr th {\n",
       "        vertical-align: top;\n",
       "    }\n",
       "\n",
       "    .dataframe thead th {\n",
       "        text-align: right;\n",
       "    }\n",
       "</style>\n",
       "<table border=\"1\" class=\"dataframe\">\n",
       "  <thead>\n",
       "    <tr style=\"text-align: right;\">\n",
       "      <th></th>\n",
       "      <th>operator_id</th>\n",
       "      <th>espera_promedio</th>\n",
       "      <th>tasa_perdidas</th>\n",
       "      <th>duracion_atendidas</th>\n",
       "    </tr>\n",
       "  </thead>\n",
       "  <tbody>\n",
       "    <tr>\n",
       "      <th>operator_id</th>\n",
       "      <td>1.000000</td>\n",
       "      <td>-0.022101</td>\n",
       "      <td>0.028461</td>\n",
       "      <td>0.035629</td>\n",
       "    </tr>\n",
       "    <tr>\n",
       "      <th>espera_promedio</th>\n",
       "      <td>-0.022101</td>\n",
       "      <td>1.000000</td>\n",
       "      <td>0.238123</td>\n",
       "      <td>0.582938</td>\n",
       "    </tr>\n",
       "    <tr>\n",
       "      <th>tasa_perdidas</th>\n",
       "      <td>0.028461</td>\n",
       "      <td>0.238123</td>\n",
       "      <td>1.000000</td>\n",
       "      <td>0.357077</td>\n",
       "    </tr>\n",
       "    <tr>\n",
       "      <th>duracion_atendidas</th>\n",
       "      <td>0.035629</td>\n",
       "      <td>0.582938</td>\n",
       "      <td>0.357077</td>\n",
       "      <td>1.000000</td>\n",
       "    </tr>\n",
       "  </tbody>\n",
       "</table>\n",
       "</div>"
      ],
      "text/plain": [
       "                    operator_id  espera_promedio  tasa_perdidas  \\\n",
       "operator_id            1.000000        -0.022101       0.028461   \n",
       "espera_promedio       -0.022101         1.000000       0.238123   \n",
       "tasa_perdidas          0.028461         0.238123       1.000000   \n",
       "duracion_atendidas     0.035629         0.582938       0.357077   \n",
       "\n",
       "                    duracion_atendidas  \n",
       "operator_id                   0.035629  \n",
       "espera_promedio               0.582938  \n",
       "tasa_perdidas                 0.357077  \n",
       "duracion_atendidas            1.000000  "
      ]
     },
     "execution_count": 21,
     "metadata": {},
     "output_type": "execute_result"
    }
   ],
   "source": [
    "resumen1.corr()"
   ]
  },
  {
   "cell_type": "code",
   "execution_count": 22,
   "id": "59fe4a26",
   "metadata": {},
   "outputs": [],
   "source": [
    "salientes = df[df['direction'] == 'out']\n",
    "\n",
    "resumen_salientes = salientes.groupby('operator_id').agg(\n",
    "    total_llamadas=('calls_count', 'sum'),\n",
    "    duracion_promedio=('call_duration', 'mean'),\n",
    "    total_duracion=('call_duration', 'sum')\n",
    ").reset_index()"
   ]
  },
  {
   "cell_type": "code",
   "execution_count": 23,
   "id": "4bda6d1e",
   "metadata": {},
   "outputs": [
    {
     "data": {
      "image/png": "[encoded data removed]",
      "text/plain": [
       "<Figure size 640x480 with 1 Axes>"
      ]
     },
     "metadata": {},
     "output_type": "display_data"
    }
   ],
   "source": [
    "sns.scatterplot(data=resumen_salientes, x='total_llamadas', y='duracion_promedio')\n",
    "plt.title('Volumen vs duración promedio de llamadas salientes por operador')\n",
    "plt.xlabel('Total de llamadas salientes')\n",
    "plt.ylabel('Duración promedio de llamadas (segundos)')\n",
    "plt.show()"
   ]
  },
  {
   "cell_type": "markdown",
   "id": "85b369b3-7add-4fd0-8624-e16fb21364e9",
   "metadata": {},
   "source": [
    "<div class=\"alert alert-block alert-danger\">\n",
    "<b>Comentario del revisor (1ra Iteracion)</b> <a class=“tocSkip”></a>\n",
    "\n",
    "El EDA es para conocer los datos y entender los mismos, cada que muestres una gráfica debes redactar su interpretación de lo contrario no es claro lo que se quiere comunicar con las mismas\n",
    "</div>"
   ]
  },
  {
   "cell_type": "code",
   "execution_count": 28,
   "id": "33482e5c",
   "metadata": {},
   "outputs": [
    {
     "name": "stdout",
     "output_type": "stream",
     "text": [
      "De un total de 882 operadores, el 18.14% es ineficiente\n"
     ]
    }
   ],
   "source": [
    "#Operadores ineficientes tienen un total de llamadas menor a 50 y una duración promedio menor a 30 segundos.\n",
    "\n",
    "ineficientes = resumen_salientes[\n",
    "    (resumen_salientes['total_llamadas'] < 50) &\n",
    "    (resumen_salientes['duracion_promedio'] < 30)\n",
    "]\n",
    "total_ineficientes = ineficientes['operator_id'].nunique()\n",
    "total_salientes = resumen_salientes['operator_id'].nunique()\n",
    "\n",
    "print(f'De un total de {total_salientes} operadores, el {(total_ineficientes/total_salientes)*100:.2f}% es ineficiente')"
   ]
  },
  {
   "cell_type": "markdown",
   "id": "544e1d13-489a-433c-bc3e-2cd6d9b9eba2",
   "metadata": {},
   "source": [
    "<div class=\"alert alert-block alert-danger\">\n",
    "<b>Comentario del revisor (1ra Iteracion)</b> <a class=“tocSkip”></a>\n",
    "\n",
    "Este tipo de decisiones deben quedar redactadas, debes explicar por qué se está tomando esos umbrales para determinar si un operador es eficiente o no\n",
    "</div>"
   ]
  },
  {
   "cell_type": "markdown",
   "id": "c02a9eab",
   "metadata": {},
   "source": [
    "## Pruebas de Hipótesis"
   ]
  },
  {
   "cell_type": "markdown",
   "id": "4db947aa",
   "metadata": {},
   "source": [
    "- H0: Los operadores con más llamadas entrantes perdidas no tienden a ser menos eficaces.\n",
    "\n",
    "- H1: Los operadores con más llamadas entrantes perdidas tienden a ser menos eficaces."
   ]
  },
  {
   "cell_type": "code",
   "execution_count": 27,
   "id": "b7923978",
   "metadata": {},
   "outputs": [
    {
     "name": "stdout",
     "output_type": "stream",
     "text": [
      "🔹 Spearman: correlación = 0.378, p-valor = 0.0000\n",
      "✅ Se rechaza la hipótesis nula: los operadores con más llamadas perdidas tienden a ser menos eficaces.\n",
      "\n",
      "🔹 Pearson: correlación = 0.238, p-valor = 0.0000\n",
      "✅ Se rechaza la hipótesis nula: los operadores con más llamadas perdidas tienden a ser menos eficaces.\n"
     ]
    }
   ],
   "source": [
    "# Eliminar posibles valores nulos\n",
    "resumen1 = resumen1.dropna(subset=['tasa_perdidas', 'espera_promedio'])\n",
    "\n",
    "# Spearman\n",
    "corr_s, pval_s = spearmanr(resumen1['tasa_perdidas'], resumen1['espera_promedio'])\n",
    "print(f\"🔹 Spearman: correlación = {corr_s:.3f}, p-valor = {pval_s:.4f}\")\n",
    "if pval_s < 0.05:\n",
    "    print(\"✅ Se rechaza la hipótesis nula: los operadores con más llamadas perdidas tienden a ser menos eficaces.\")\n",
    "else:\n",
    "    print(\"❌ No se rechaza la hipótesis nula: no hay evidencia de que los operadores con más llamadas perdidas sean menos eficaces.\")\n",
    "\n",
    "# Pearson\n",
    "corr_p, pval_p = pearsonr(resumen1['tasa_perdidas'], resumen1['espera_promedio'])\n",
    "print(f\"\\n🔹 Pearson: correlación = {corr_p:.3f}, p-valor = {pval_p:.4f}\")\n",
    "if pval_p < 0.05:\n",
    "    print(\"✅ Se rechaza la hipótesis nula: los operadores con más llamadas perdidas tienden a ser menos eficaces.\")\n",
    "else:\n",
    "    print(\"❌ No se rechaza la hipótesis nula: no hay evidencia de que los operadores con más llamadas perdidas sean menos eficaces.\")"
   ]
  },
  {
   "cell_type": "code",
   "execution_count": 38,
   "id": "f389ae91",
   "metadata": {},
   "outputs": [
    {
     "data": {
      "image/png": "[encoded data removed]",
      "text/plain": [
       "<Figure size 640x480 with 1 Axes>"
      ]
     },
     "metadata": {},
     "output_type": "display_data"
    }
   ],
   "source": [
    "sns.scatterplot(data=resumen1, x='tasa_perdidas', y='espera_promedio')\n",
    "plt.title(\"Relación entre tasa de llamadas perdidas y espera promedio\")\n",
    "plt.xlabel(\"Tasa de llamadas perdidas\")\n",
    "plt.ylabel(\"Tiempo promedio de espera (segundos)\")\n",
    "plt.show()"
   ]
  },
  {
   "cell_type": "markdown",
   "id": "9d00709e",
   "metadata": {},
   "source": [
    "H2: Un mayor tiempo de espera promedio en llamadas entrantes se asocia con ineficiencia."
   ]
  },
  {
   "cell_type": "code",
   "execution_count": 30,
   "id": "c3e08096",
   "metadata": {},
   "outputs": [
    {
     "name": "stdout",
     "output_type": "stream",
     "text": [
      "🔹 Mann-Whitney U-test: estadístico = 24702.000, p-valor = 0.0050\n",
      "✅ Se rechaza la hipótesis nula: los operadores ineficientes tienen tiempos de espera significativamente distintos (probablemente mayores).\n"
     ]
    }
   ],
   "source": [
    "# Extraer IDs de operadores ineficientes\n",
    "ids_ineficientes = set(ineficientes['operator_id'])\n",
    "\n",
    "# Separar los dos grupos desde resumen1\n",
    "grupo_ineficiente = resumen1[resumen1['operator_id'].isin(ids_ineficientes)]['espera_promedio']\n",
    "grupo_eficiente = resumen1[~resumen1['operator_id'].isin(ids_ineficientes)]['espera_promedio']\n",
    "\n",
    "# Eliminar posibles nulos\n",
    "grupo_ineficiente = grupo_ineficiente.dropna()\n",
    "grupo_eficiente = grupo_eficiente.dropna()\n",
    "\n",
    "# Mann-Whitney U test\n",
    "stat, p_val = mannwhitneyu(grupo_ineficiente, grupo_eficiente, alternative='two-sided')\n",
    "\n",
    "print(f\"🔹 Mann-Whitney U-test: estadístico = {stat:.3f}, p-valor = {p_val:.4f}\")\n",
    "if p_val < 0.05:\n",
    "    print(\"✅ Se rechaza la hipótesis nula: los operadores ineficientes tienen tiempos de espera significativamente distintos (probablemente mayores).\")\n",
    "else:\n",
    "    print(\"❌ No se rechaza la hipótesis nula: no hay evidencia de diferencia significativa en tiempo de espera entre operadores ineficientes y eficientes.\")"
   ]
  },
  {
   "cell_type": "code",
   "execution_count": 31,
   "id": "1c26c5cd",
   "metadata": {},
   "outputs": [
    {
     "name": "stdout",
     "output_type": "stream",
     "text": [
      "🔹 Mann-Whitney U-test: estadístico = 6609.000, p-valor = 0.0000\n",
      "✅ Se rechaza la hipótesis nula: los operadores ineficaces tienen tiempos de espera significativamente distintos.\n"
     ]
    }
   ],
   "source": [
    "# Unimos ambos resúmenes por operador_id\n",
    "resumen_total = resumen1.merge(resumen_salientes, on='operator_id', how='left')\n",
    "\n",
    "# Cortes basados en percentiles\n",
    "umbral_tasa_perdidas = resumen_total['tasa_perdidas'].quantile(0.75)\n",
    "umbral_espera = resumen_total['espera_promedio'].quantile(0.75)\n",
    "umbral_salientes = resumen_total['total_llamadas'].quantile(0.25)\n",
    "\n",
    "resumen_total['ineficiente'] = (\n",
    "    (resumen_total['tasa_perdidas'] >= umbral_tasa_perdidas) &\n",
    "    (resumen_total['espera_promedio'] >= umbral_espera) &\n",
    "    (resumen_total['total_llamadas'].fillna(0) <= umbral_salientes)  # NaN = no hace llamadas salientes\n",
    ")\n",
    "\n",
    "\n",
    "# Comparar tiempos de espera entre eficientes e ineficientes\n",
    "grupo_inef = resumen_total[resumen_total['ineficiente'] == True]['espera_promedio']\n",
    "grupo_ef = resumen_total[resumen_total['ineficiente'] == False]['espera_promedio']\n",
    "\n",
    "stat, p_val = mannwhitneyu(grupo_inef, grupo_ef, alternative='two-sided')\n",
    "\n",
    "print(f\"🔹 Mann-Whitney U-test: estadístico = {stat:.3f}, p-valor = {p_val:.4f}\")\n",
    "if p_val < 0.05:\n",
    "    print(\"✅ Se rechaza la hipótesis nula: los operadores ineficaces tienen tiempos de espera significativamente distintos.\")\n",
    "else:\n",
    "    print(\"❌ No se rechaza la hipótesis nula: no hay diferencia significativa en los tiempos de espera.\")\n"
   ]
  },
  {
   "cell_type": "code",
   "execution_count": 39,
   "id": "80c21ae4",
   "metadata": {},
   "outputs": [
    {
     "data": {
      "image/png": "[encoded data removed]",
      "text/plain": [
       "<Figure size 640x480 with 1 Axes>"
      ]
     },
     "metadata": {},
     "output_type": "display_data"
    }
   ],
   "source": [
    "resumen_total['grupo'] = resumen_total['ineficiente'].map({True: 'Ineficiente', False: 'Eficiente'})\n",
    "\n",
    "sns.boxplot(data=resumen_total, x='grupo', y='espera_promedio')\n",
    "plt.title(\"Tiempo promedio de espera por tipo de operador (según definición oficial)\")\n",
    "plt.xlabel(\"Tipo de operador\")\n",
    "plt.ylabel(\"Tiempo de espera promedio\")\n",
    "plt.grid(True)\n",
    "plt.show()\n"
   ]
  },
  {
   "cell_type": "markdown",
   "id": "38d4da8a-7ab1-4d92-b13e-6c35e76f1fa4",
   "metadata": {},
   "source": [
    "<div class=\"alert alert-block alert-danger\">\n",
    "<b>Comentario del revisor (1ra Iteracion)</b> <a class=“tocSkip”></a>\n",
    "\n",
    "Hace falta conclusiones finales y que redactes la interpretación de los resultados de tus pruebas estadísticas y también indicar por qué se realizaron. El notebook debe quedar completo así cómo la presentación.\n",
    "</div>"
   ]
  }
 ],
 "metadata": {
  "kernelspec": {
   "display_name": "Python 3 (ipykernel)",
   "language": "python",
   "name": "python3"
  },
  "language_info": {
   "codemirror_mode": {
    "name": "ipython",
    "version": 3
   },
   "file_extension": ".py",
   "mimetype": "text/x-python",
   "name": "python",
   "nbconvert_exporter": "python",
   "pygments_lexer": "ipython3",
   "version": "3.9.22"
  }
 },
 "nbformat": 4,
 "nbformat_minor": 5
}
